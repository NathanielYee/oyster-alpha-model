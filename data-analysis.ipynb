{
 "cells": [
  {
   "cell_type": "code",
   "execution_count": 5,
   "id": "initial_id",
   "metadata": {
    "ExecuteTime": {
     "end_time": "2024-12-06T02:40:40.300619Z",
     "start_time": "2024-12-06T02:40:34.733762Z"
    }
   },
   "outputs": [],
   "source": [
    "import numpy as np\n",
    "import pandas as pd\n",
    "import datetime as dt\n",
    "import yfinance as yf\n",
    "import pandas_datareader.data as web\n",
    "from scipy.optimize import minimize\n",
    "import statsmodels.api as sm\n",
    "import matplotlib.pyplot as plt"
   ]
  },
  {
   "cell_type": "code",
   "execution_count": 6,
   "id": "3cd90d9f064cbc55",
   "metadata": {
    "ExecuteTime": {
     "end_time": "2024-12-06T02:42:19.061906Z",
     "start_time": "2024-12-06T02:42:19.058515Z"
    }
   },
   "outputs": [],
   "source": [
    "ticker_list = ['SOL-USD','ETH-USD','BTC-USD']"
   ]
  },
  {
   "cell_type": "code",
   "execution_count": 7,
   "id": "d88617504715a088",
   "metadata": {
    "ExecuteTime": {
     "end_time": "2024-12-06T02:45:01.444402Z",
     "start_time": "2024-12-06T02:45:01.362130Z"
    }
   },
   "outputs": [
    {
     "name": "stderr",
     "output_type": "stream",
     "text": [
      "\n",
      "*********************100%***********************]  3 of 3 completed"
     ]
    },
    {
     "data": {
      "text/html": [
       "<div>\n",
       "<style scoped>\n",
       "    .dataframe tbody tr th:only-of-type {\n",
       "        vertical-align: middle;\n",
       "    }\n",
       "\n",
       "    .dataframe tbody tr th {\n",
       "        vertical-align: top;\n",
       "    }\n",
       "\n",
       "    .dataframe thead th {\n",
       "        text-align: right;\n",
       "    }\n",
       "</style>\n",
       "<table border=\"1\" class=\"dataframe\">\n",
       "  <thead>\n",
       "    <tr style=\"text-align: right;\">\n",
       "      <th>Ticker</th>\n",
       "      <th>BTC-USD</th>\n",
       "      <th>ETH-USD</th>\n",
       "      <th>SOL-USD</th>\n",
       "    </tr>\n",
       "    <tr>\n",
       "      <th>Date</th>\n",
       "      <th></th>\n",
       "      <th></th>\n",
       "      <th></th>\n",
       "    </tr>\n",
       "  </thead>\n",
       "  <tbody>\n",
       "    <tr>\n",
       "      <th>2020-04-19</th>\n",
       "      <td>0.031320</td>\n",
       "      <td>0.127046</td>\n",
       "      <td>-0.312222</td>\n",
       "    </tr>\n",
       "    <tr>\n",
       "      <th>2020-04-26</th>\n",
       "      <td>0.068217</td>\n",
       "      <td>0.086461</td>\n",
       "      <td>0.047016</td>\n",
       "    </tr>\n",
       "    <tr>\n",
       "      <th>2020-05-03</th>\n",
       "      <td>0.158545</td>\n",
       "      <td>0.069004</td>\n",
       "      <td>0.069282</td>\n",
       "    </tr>\n",
       "    <tr>\n",
       "      <th>2020-05-10</th>\n",
       "      <td>-0.015851</td>\n",
       "      <td>-0.105880</td>\n",
       "      <td>-0.209704</td>\n",
       "    </tr>\n",
       "    <tr>\n",
       "      <th>2020-05-17</th>\n",
       "      <td>0.104416</td>\n",
       "      <td>0.098405</td>\n",
       "      <td>0.141434</td>\n",
       "    </tr>\n",
       "    <tr>\n",
       "      <th>...</th>\n",
       "      <td>...</td>\n",
       "      <td>...</td>\n",
       "      <td>...</td>\n",
       "    </tr>\n",
       "    <tr>\n",
       "      <th>2024-11-10</th>\n",
       "      <td>0.170685</td>\n",
       "      <td>0.299177</td>\n",
       "      <td>0.295675</td>\n",
       "    </tr>\n",
       "    <tr>\n",
       "      <th>2024-11-17</th>\n",
       "      <td>0.116456</td>\n",
       "      <td>-0.036245</td>\n",
       "      <td>0.128015</td>\n",
       "    </tr>\n",
       "    <tr>\n",
       "      <th>2024-11-24</th>\n",
       "      <td>0.090911</td>\n",
       "      <td>0.093638</td>\n",
       "      <td>0.064586</td>\n",
       "    </tr>\n",
       "    <tr>\n",
       "      <th>2024-12-01</th>\n",
       "      <td>-0.007489</td>\n",
       "      <td>0.103312</td>\n",
       "      <td>-0.062667</td>\n",
       "    </tr>\n",
       "    <tr>\n",
       "      <th>2024-12-08</th>\n",
       "      <td>0.015304</td>\n",
       "      <td>0.035074</td>\n",
       "      <td>-0.033537</td>\n",
       "    </tr>\n",
       "  </tbody>\n",
       "</table>\n",
       "<p>243 rows × 3 columns</p>\n",
       "</div>"
      ],
      "text/plain": [
       "Ticker       BTC-USD   ETH-USD   SOL-USD\n",
       "Date                                    \n",
       "2020-04-19  0.031320  0.127046 -0.312222\n",
       "2020-04-26  0.068217  0.086461  0.047016\n",
       "2020-05-03  0.158545  0.069004  0.069282\n",
       "2020-05-10 -0.015851 -0.105880 -0.209704\n",
       "2020-05-17  0.104416  0.098405  0.141434\n",
       "...              ...       ...       ...\n",
       "2024-11-10  0.170685  0.299177  0.295675\n",
       "2024-11-17  0.116456 -0.036245  0.128015\n",
       "2024-11-24  0.090911  0.093638  0.064586\n",
       "2024-12-01 -0.007489  0.103312 -0.062667\n",
       "2024-12-08  0.015304  0.035074 -0.033537\n",
       "\n",
       "[243 rows x 3 columns]"
      ]
     },
     "execution_count": 7,
     "metadata": {},
     "output_type": "execute_result"
    }
   ],
   "source": [
    "start_date = dt.datetime(2011, 1, 1)\n",
    "end_date = dt.datetime(2024, 12, 5)\n",
    "returns = (yf.download(ticker_list,start_date-pd.offsets.BDay(1),end_date+pd.offsets.BDay(1))['Adj Close']\n",
    "               .resample('W')\n",
    "               .last()\n",
    "               .pct_change().dropna())\n",
    "returns.index=returns.index.tz_localize(None)\n",
    "returns"
   ]
  },
  {
   "cell_type": "code",
   "execution_count": 13,
   "id": "25cf835124b7934a",
   "metadata": {},
   "outputs": [],
   "source": [
    "from statsmodels.tsa.arima.model import ARIMA\n",
    "from datetime import datetime"
   ]
  },
  {
   "cell_type": "code",
   "execution_count": 14,
   "id": "6885e28f-9e39-4c77-b7fb-c3842dbcb8b3",
   "metadata": {},
   "outputs": [],
   "source": [
    "def forecast_timeseries(data, forecast_steps=30):\n",
    "    \"\"\"\n",
    "    Forecast Bitcoin prices using an ARIMA model.\n",
    "    :param data: DataFrame containing historical prices with a 'Date' and 'Adj Close' column.\n",
    "    :param forecast_steps: Number of days to forecast.\n",
    "    :return: Forecasted values and the model summary.\n",
    "    \"\"\"\n",
    "    # Convert 'Date' to datetime and set as index\n",
    "    data['Date'] = pd.to_datetime(data['Date'])\n",
    "    data.set_index('Date', inplace=True)\n",
    "\n",
    "    # Ensure the data is sorted by date\n",
    "    data = data.sort_index()\n",
    "\n",
    "    # Extract the 'Adj Close' column for forecasting\n",
    "    adj_close = data['Adj Close']\n",
    "\n",
    "    # Fit the ARIMA model (p, d, q) parameters can be tuned\n",
    "    model = ARIMA(adj_close, order=(5, 1, 0))  # Example: ARIMA(5, 1, 0)\n",
    "    model_fit = model.fit()\n",
    "\n",
    "    # Forecast future values\n",
    "    forecast = model_fit.forecast(steps=forecast_steps)\n",
    "\n",
    "    # Create a DataFrame for the forecast\n",
    "    forecast_dates = pd.date_range(start=adj_close.index[-1] + pd.Timedelta(days=1), periods=forecast_steps)\n",
    "    forecast_df = pd.DataFrame({'Date': forecast_dates, 'Forecasted Price': forecast})\n",
    "    \n",
    "    return forecast_df, model_fit"
   ]
  },
  {
   "cell_type": "code",
   "execution_count": 12,
   "id": "f6e6acd2-04a2-47cb-8977-7c8f9742153a",
   "metadata": {},
   "outputs": [
    {
     "ename": "NameError",
     "evalue": "name 'data' is not defined",
     "output_type": "error",
     "traceback": [
      "\u001b[0;31m---------------------------------------------------------------------------\u001b[0m",
      "\u001b[0;31mNameError\u001b[0m                                 Traceback (most recent call last)",
      "Cell \u001b[0;32mIn[12], line 2\u001b[0m\n\u001b[1;32m      1\u001b[0m forecast_steps \u001b[38;5;241m=\u001b[39m \u001b[38;5;241m30\u001b[39m  \u001b[38;5;66;03m# Forecast for the next 30 days\u001b[39;00m\n\u001b[0;32m----> 2\u001b[0m forecast_df, model_fit \u001b[38;5;241m=\u001b[39m forecast_timeseries(\u001b[43mdata\u001b[49m, forecast_steps)\n\u001b[1;32m      4\u001b[0m forecast_df\u001b[38;5;241m.\u001b[39mto_csv(\u001b[38;5;124m'\u001b[39m\u001b[38;5;124mbitcoin_forecast.csv\u001b[39m\u001b[38;5;124m'\u001b[39m, index\u001b[38;5;241m=\u001b[39m\u001b[38;5;28;01mFalse\u001b[39;00m)\n\u001b[1;32m      5\u001b[0m \u001b[38;5;28mprint\u001b[39m(forecast_df)\n",
      "\u001b[0;31mNameError\u001b[0m: name 'data' is not defined"
     ]
    }
   ],
   "source": [
    "forecast_steps = 30  # Forecast for the next 30 days\n",
    "forecast_df, model_fit = forecast_timeseries(data, forecast_steps)\n",
    "\n",
    "forecast_df.to_csv('bitcoin_forecast.csv', index=False)\n",
    "print(forecast_df)\n",
    "\n",
    "plt.figure(figsize=(10, 6))\n",
    "plt.plot(data['Date'], data['Adj Close'], label='Historical Prices')\n",
    "plt.plot(forecast_df['Date'], forecast_df['Forecasted Price'], label='Forecasted Prices', linestyle='--')\n",
    "plt.xlabel('Date')\n",
    "plt.ylabel('Price')\n",
    "plt.title('Bitcoin Price Forecast')\n",
    "plt.legend()\n",
    "plt.grid()\n",
    "plt.show()\n"
   ]
  },
  {
   "cell_type": "code",
   "execution_count": null,
   "id": "f01ccb7e-90c5-4b5d-b542-901cee2590f3",
   "metadata": {},
   "outputs": [],
   "source": []
  }
 ],
 "metadata": {
  "kernelspec": {
   "display_name": "Python 3 (ipykernel)",
   "language": "python",
   "name": "python3"
  },
  "language_info": {
   "codemirror_mode": {
    "name": "ipython",
    "version": 3
   },
   "file_extension": ".py",
   "mimetype": "text/x-python",
   "name": "python",
   "nbconvert_exporter": "python",
   "pygments_lexer": "ipython3",
   "version": "3.10.15"
  }
 },
 "nbformat": 4,
 "nbformat_minor": 5
}
