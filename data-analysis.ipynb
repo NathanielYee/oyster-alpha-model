{
 "cells": [
  {
   "cell_type": "code",
   "id": "initial_id",
   "metadata": {
    "collapsed": true,
    "ExecuteTime": {
     "end_time": "2024-12-06T02:40:40.300619Z",
     "start_time": "2024-12-06T02:40:34.733762Z"
    }
   },
   "source": [
    "import numpy as np\n",
    "import pandas as pd\n",
    "import datetime as dt\n",
    "import yfinance as yf\n",
    "import pandas_datareader.data as web\n",
    "from scipy.optimize import minimize\n",
    "import statsmodels.api as sm\n",
    "import matplotlib.pyplot as plt"
   ],
   "outputs": [],
   "execution_count": 3
  },
  {
   "metadata": {
    "ExecuteTime": {
     "end_time": "2024-12-06T02:42:19.061906Z",
     "start_time": "2024-12-06T02:42:19.058515Z"
    }
   },
   "cell_type": "code",
   "source": "ticker_list = ['SOL-USD','ETH-USD','BTC-USD']",
   "id": "3cd90d9f064cbc55",
   "outputs": [],
   "execution_count": 5
  },
  {
   "metadata": {
    "ExecuteTime": {
     "end_time": "2024-12-06T02:45:01.444402Z",
     "start_time": "2024-12-06T02:45:01.362130Z"
    }
   },
   "cell_type": "code",
   "source": [
    "start_date = dt.datetime(2011, 1, 1)\n",
    "end_date = dt.datetime(2024, 12, 5)\n",
    "returns = (yf.download(ticker_list,start_date-pd.offsets.BDay(1),end_date+pd.offsets.BDay(1))['Adj Close']\n",
    "               .resample('W')\n",
    "               .last()\n",
    "               .pct_change().dropna())\n",
    "returns.index=returns.index.tz_localize(None)\n",
    "returns"
   ],
   "id": "d88617504715a088",
   "outputs": [
    {
     "name": "stderr",
     "output_type": "stream",
     "text": [
      "[*********************100%***********************]  3 of 3 completed\n"
     ]
    },
    {
     "data": {
      "text/plain": [
       "Ticker       BTC-USD   ETH-USD   SOL-USD\n",
       "Date                                    \n",
       "2020-04-19  0.031320  0.127046 -0.312222\n",
       "2020-04-26  0.068217  0.086461  0.047016\n",
       "2020-05-03  0.158545  0.069004  0.069282\n",
       "2020-05-10 -0.015851 -0.105880 -0.209704\n",
       "2020-05-17  0.104416  0.098405  0.141434\n",
       "...              ...       ...       ...\n",
       "2024-11-10  0.170685  0.299177  0.295675\n",
       "2024-11-17  0.116456 -0.036245  0.128015\n",
       "2024-11-24  0.090911  0.093638  0.064586\n",
       "2024-12-01 -0.007489  0.103312 -0.062667\n",
       "2024-12-08  0.015304  0.035074 -0.033537\n",
       "\n",
       "[243 rows x 3 columns]"
      ],
      "text/html": [
       "<div>\n",
       "<style scoped>\n",
       "    .dataframe tbody tr th:only-of-type {\n",
       "        vertical-align: middle;\n",
       "    }\n",
       "\n",
       "    .dataframe tbody tr th {\n",
       "        vertical-align: top;\n",
       "    }\n",
       "\n",
       "    .dataframe thead th {\n",
       "        text-align: right;\n",
       "    }\n",
       "</style>\n",
       "<table border=\"1\" class=\"dataframe\">\n",
       "  <thead>\n",
       "    <tr style=\"text-align: right;\">\n",
       "      <th>Ticker</th>\n",
       "      <th>BTC-USD</th>\n",
       "      <th>ETH-USD</th>\n",
       "      <th>SOL-USD</th>\n",
       "    </tr>\n",
       "    <tr>\n",
       "      <th>Date</th>\n",
       "      <th></th>\n",
       "      <th></th>\n",
       "      <th></th>\n",
       "    </tr>\n",
       "  </thead>\n",
       "  <tbody>\n",
       "    <tr>\n",
       "      <th>2020-04-19</th>\n",
       "      <td>0.031320</td>\n",
       "      <td>0.127046</td>\n",
       "      <td>-0.312222</td>\n",
       "    </tr>\n",
       "    <tr>\n",
       "      <th>2020-04-26</th>\n",
       "      <td>0.068217</td>\n",
       "      <td>0.086461</td>\n",
       "      <td>0.047016</td>\n",
       "    </tr>\n",
       "    <tr>\n",
       "      <th>2020-05-03</th>\n",
       "      <td>0.158545</td>\n",
       "      <td>0.069004</td>\n",
       "      <td>0.069282</td>\n",
       "    </tr>\n",
       "    <tr>\n",
       "      <th>2020-05-10</th>\n",
       "      <td>-0.015851</td>\n",
       "      <td>-0.105880</td>\n",
       "      <td>-0.209704</td>\n",
       "    </tr>\n",
       "    <tr>\n",
       "      <th>2020-05-17</th>\n",
       "      <td>0.104416</td>\n",
       "      <td>0.098405</td>\n",
       "      <td>0.141434</td>\n",
       "    </tr>\n",
       "    <tr>\n",
       "      <th>...</th>\n",
       "      <td>...</td>\n",
       "      <td>...</td>\n",
       "      <td>...</td>\n",
       "    </tr>\n",
       "    <tr>\n",
       "      <th>2024-11-10</th>\n",
       "      <td>0.170685</td>\n",
       "      <td>0.299177</td>\n",
       "      <td>0.295675</td>\n",
       "    </tr>\n",
       "    <tr>\n",
       "      <th>2024-11-17</th>\n",
       "      <td>0.116456</td>\n",
       "      <td>-0.036245</td>\n",
       "      <td>0.128015</td>\n",
       "    </tr>\n",
       "    <tr>\n",
       "      <th>2024-11-24</th>\n",
       "      <td>0.090911</td>\n",
       "      <td>0.093638</td>\n",
       "      <td>0.064586</td>\n",
       "    </tr>\n",
       "    <tr>\n",
       "      <th>2024-12-01</th>\n",
       "      <td>-0.007489</td>\n",
       "      <td>0.103312</td>\n",
       "      <td>-0.062667</td>\n",
       "    </tr>\n",
       "    <tr>\n",
       "      <th>2024-12-08</th>\n",
       "      <td>0.015304</td>\n",
       "      <td>0.035074</td>\n",
       "      <td>-0.033537</td>\n",
       "    </tr>\n",
       "  </tbody>\n",
       "</table>\n",
       "<p>243 rows × 3 columns</p>\n",
       "</div>"
      ]
     },
     "execution_count": 9,
     "metadata": {},
     "output_type": "execute_result"
    }
   ],
   "execution_count": 9
  },
  {
   "metadata": {},
   "cell_type": "code",
   "outputs": [],
   "execution_count": null,
   "source": "",
   "id": "25cf835124b7934a"
  }
 ],
 "metadata": {
  "kernelspec": {
   "display_name": "Python 3",
   "language": "python",
   "name": "python3"
  },
  "language_info": {
   "codemirror_mode": {
    "name": "ipython",
    "version": 2
   },
   "file_extension": ".py",
   "mimetype": "text/x-python",
   "name": "python",
   "nbconvert_exporter": "python",
   "pygments_lexer": "ipython2",
   "version": "2.7.6"
  }
 },
 "nbformat": 4,
 "nbformat_minor": 5
}
